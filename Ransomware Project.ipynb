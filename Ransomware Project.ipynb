{
 "cells": [
  {
   "cell_type": "markdown",
   "id": "a83e7b4f",
   "metadata": {},
   "source": [
    "# Step 1: Import Required Libraries"
   ]
  },
  {
   "cell_type": "code",
   "execution_count": 2,
   "id": "b20d81ef",
   "metadata": {},
   "outputs": [],
   "source": [
    "import pandas as pd\n",
    "import numpy as np\n",
    "import matplotlib.pyplot as plt\n",
    "import seaborn as sns\n",
    "from sklearn.model_selection import train_test_split\n",
    "from sklearn.preprocessing import StandardScaler\n",
    "from sklearn.ensemble import RandomForestClassifier\n",
    "from sklearn.neighbors import KNeighborsClassifier\n",
    "from sklearn.svm import SVC\n",
    "from sklearn.metrics import (\n",
    "    confusion_matrix, \n",
    "    classification_report, \n",
    "    accuracy_score, \n",
    "    roc_curve, \n",
    "    roc_auc_score,\n",
    "    precision_recall_curve,\n",
    "    auc\n",
    ")\n"
   ]
  },
  {
   "cell_type": "markdown",
   "id": "53932d8b",
   "metadata": {},
   "source": [
    "# Step 2: Load and Preprocess Data"
   ]
  },
  {
   "cell_type": "code",
   "execution_count": 3,
   "id": "4a287a0f",
   "metadata": {
    "scrolled": true
   },
   "outputs": [],
   "source": [
    "# Load the dataset\n",
    "data = pd.read_csv('malware.csv', sep='|')\n",
    "\n",
    "# Drop rows with missing values\n",
    "data = data.dropna()\n",
    "if 'Name' in data.columns:\n",
    "    data = data.drop('Name', axis=1)\n",
    "if 'md5' in data.columns:\n",
    "    data = data.drop('md5', axis=1)\n",
    "\n",
    " #Check for other non-numeric columns\n",
    "non_numeric_cols = data.select_dtypes(include=['object']).columns\n",
    "if len(non_numeric_cols) > 0:\n",
    "    print(f\"Dropping non-numeric columns: {list(non_numeric_cols)}\")\n",
    "    data = data.drop(non_numeric_cols, axis=1)\n",
    "\n",
    "\n",
    "# Separate features (X) and target (y)\n",
    "X = data.drop('legitimate', axis=1)\n",
    "y = data['legitimate']\n",
    "\n",
    "# Split into training (80%) and testing (20%) sets\n",
    "X_train, X_test, y_train, y_test = train_test_split(X, y, test_size=0.2, random_state=42)\n",
    "\n",
    "# Standardize features (important for KNN and SVM)\n",
    "scaler = StandardScaler()\n",
    "X_train_scaled = scaler.fit_transform(X_train)\n",
    "X_test_scaled = scaler.transform(X_test)"
   ]
  },
  {
   "cell_type": "markdown",
   "id": "52c69f8c",
   "metadata": {},
   "source": [
    "# Step 3: Train and Evaluate Models\n",
    "\n",
    "## 1. Random Forest (Baseline Model)"
   ]
  },
  {
   "cell_type": "code",
   "execution_count": 4,
   "id": "1ead567f",
   "metadata": {},
   "outputs": [
    {
     "name": "stdout",
     "output_type": "stream",
     "text": [
      "Random Forest Metrics:\n",
      "              precision    recall  f1-score   support\n",
      "\n",
      "           0       1.00      1.00      1.00     19250\n",
      "           1       0.99      0.99      0.99      8360\n",
      "\n",
      "    accuracy                           1.00     27610\n",
      "   macro avg       0.99      0.99      0.99     27610\n",
      "weighted avg       1.00      1.00      1.00     27610\n",
      "\n",
      "Accuracy: 0.9952\n"
     ]
    }
   ],
   "source": [
    "rf_model = RandomForestClassifier(n_estimators=100, random_state=42)\n",
    "rf_model.fit(X_train_scaled, y_train)\n",
    "rf_pred = rf_model.predict(X_test_scaled)\n",
    "\n",
    "print(\"Random Forest Metrics:\")\n",
    "print(classification_report(y_test, rf_pred))\n",
    "print(f\"Accuracy: {accuracy_score(y_test, rf_pred):.4f}\")"
   ]
  },
  {
   "cell_type": "markdown",
   "id": "91126368",
   "metadata": {},
   "source": [
    "## 2. K-Nearest Neighbors (KNN)"
   ]
  },
  {
   "cell_type": "code",
   "execution_count": 5,
   "id": "57ad6eed",
   "metadata": {},
   "outputs": [
    {
     "name": "stdout",
     "output_type": "stream",
     "text": [
      "\n",
      "KNN Metrics:\n",
      "              precision    recall  f1-score   support\n",
      "\n",
      "           0       1.00      0.99      0.99     19250\n",
      "           1       0.98      0.99      0.99      8360\n",
      "\n",
      "    accuracy                           0.99     27610\n",
      "   macro avg       0.99      0.99      0.99     27610\n",
      "weighted avg       0.99      0.99      0.99     27610\n",
      "\n",
      "Accuracy: 0.9909\n"
     ]
    }
   ],
   "source": [
    "knn_model = KNeighborsClassifier(n_neighbors=5)\n",
    "knn_model.fit(X_train_scaled, y_train)\n",
    "knn_pred = knn_model.predict(X_test_scaled)\n",
    "\n",
    "print(\"\\nKNN Metrics:\")\n",
    "print(classification_report(y_test, knn_pred))\n",
    "print(f\"Accuracy: {accuracy_score(y_test, knn_pred):.4f}\")"
   ]
  },
  {
   "cell_type": "markdown",
   "id": "be056b6f",
   "metadata": {},
   "source": [
    "## 3. Support Vector Machine (SVM)"
   ]
  },
  {
   "cell_type": "code",
   "execution_count": 7,
   "id": "ae16e5c7",
   "metadata": {},
   "outputs": [
    {
     "name": "stdout",
     "output_type": "stream",
     "text": [
      "\n",
      "SVM Metrics:\n",
      "              precision    recall  f1-score   support\n",
      "\n",
      "           0       0.99      0.99      0.99     19250\n",
      "           1       0.98      0.98      0.98      8360\n",
      "\n",
      "    accuracy                           0.99     27610\n",
      "   macro avg       0.99      0.99      0.99     27610\n",
      "weighted avg       0.99      0.99      0.99     27610\n",
      "\n",
      "Accuracy: 0.9889\n"
     ]
    }
   ],
   "source": [
    "svm_model = SVC(kernel='rbf', probability=True, random_state=42)\n",
    "svm_model.fit(X_train_scaled, y_train)\n",
    "svm_pred = svm_model.predict(X_test_scaled)\n",
    "\n",
    "print(\"\\nSVM Metrics:\")\n",
    "print(classification_report(y_test, svm_pred))\n",
    "print(f\"Accuracy: {accuracy_score(y_test, svm_pred):.4f}\")"
   ]
  },
  {
   "cell_type": "markdown",
   "id": "662c33db",
   "metadata": {},
   "source": [
    "# Step 4: Visualizations for Model Comparison\n",
    "\n",
    "## 1. Confusion Matrix Heatmaps"
   ]
  },
  {
   "cell_type": "code",
   "execution_count": 8,
   "id": "44f8125a",
   "metadata": {},
   "outputs": [
    {
     "data": {
      "image/png": "[encoded data removed]",
      "text/plain": [
       "<Figure size 432x288 with 2 Axes>"
      ]
     },
     "metadata": {
      "needs_background": "light"
     },
     "output_type": "display_data"
    },
    {
     "data": {
      "image/png": "[encoded data removed]",
      "text/plain": [
       "<Figure size 432x288 with 2 Axes>"
      ]
     },
     "metadata": {
      "needs_background": "light"
     },
     "output_type": "display_data"
    },
    {
     "data": {
      "image/png": "[encoded data removed]",
      "text/plain": [
       "<Figure size 432x288 with 2 Axes>"
      ]
     },
     "metadata": {
      "needs_background": "light"
     },
     "output_type": "display_data"
    }
   ],
   "source": [
    "def plot_confusion_matrix(y_true, y_pred, model_name):\n",
    "    cm = confusion_matrix(y_true, y_pred)\n",
    "    plt.figure(figsize=(6, 4))\n",
    "    sns.heatmap(cm, annot=True, fmt='d', cmap='Blues', \n",
    "                xticklabels=['Non-Ransomware', 'Ransomware'],\n",
    "                yticklabels=['Non-Ransomware', 'Ransomware'])\n",
    "    plt.title(f'Confusion Matrix - {model_name}')\n",
    "    plt.xlabel('Predicted')\n",
    "    plt.ylabel('Actual')\n",
    "    plt.show()\n",
    "\n",
    "plot_confusion_matrix(y_test, rf_pred, \"Random Forest\")\n",
    "plot_confusion_matrix(y_test, knn_pred, \"KNN\")\n",
    "plot_confusion_matrix(y_test, svm_pred, \"SVM\")"
   ]
  },
  {
   "cell_type": "markdown",
   "id": "3e5b20b6",
   "metadata": {},
   "source": [
    "## 2. ROC Curve (Model Performance Comparison)"
   ]
  },
  {
   "cell_type": "code",
   "execution_count": null,
   "id": "a73f14c3",
   "metadata": {},
   "outputs": [],
   "source": [
    "def plot_roc_curve(y_true, y_pred_proba, model_name):\n",
    "    fpr, tpr, _ = roc_curve(y_true, y_pred_proba)\n",
    "    roc_auc = roc_auc_score(y_true, y_pred_proba)\n",
    "    \n",
    "    plt.figure(figsize=(8, 6))\n",
    "    plt.plot(fpr, tpr, label=f'{model_name} (AUC = {roc_auc:.2f})')\n",
    "    plt.plot([0, 1], [0, 1], 'k--')\n",
    "    plt.xlabel('False Positive Rate')\n",
    "    plt.ylabel('True Positive Rate')\n",
    "    plt.title('ROC Curve Comparison')\n",
    "    plt.legend()\n",
    "    plt.show()\n",
    "\n",
    "# Get predicted probabilities for ROC\n",
    "rf_proba = rf_model.predict_proba(X_test_scaled)[:, 1]\n",
    "knn_proba = knn_model.predict_proba(X_test_scaled)[:, 1]\n",
    "svm_proba = svm_model.predict_proba(X_test_scaled)[:, 1]\n",
    "\n",
    "plot_roc_curve(y_test, rf_proba, \"Random Forest\")\n",
    "plot_roc_curve(y_test, knn_proba, \"KNN\")\n",
    "plot_roc_curve(y_test, svm_proba, \"SVM\")"
   ]
  },
  {
   "cell_type": "markdown",
   "id": "6d089831",
   "metadata": {},
   "source": [
    "## 3.Precision-Recall Curve"
   ]
  },
  {
   "cell_type": "code",
   "execution_count": null,
   "id": "6e7ca545",
   "metadata": {},
   "outputs": [],
   "source": [
    "def plot_precision_recall(y_true, y_pred_proba, model_name):\n",
    "    precision, recall, _ = precision_recall_curve(y_true, y_pred_proba)\n",
    "    pr_auc = auc(recall, precision)\n",
    "    \n",
    "    plt.figure(figsize=(8, 6))\n",
    "    plt.plot(recall, precision, label=f'{model_name} (AUC = {pr_auc:.2f})')\n",
    "    plt.xlabel('Recall')\n",
    "    plt.ylabel('Precision')\n",
    "    plt.title('Precision-Recall Curve')\n",
    "    plt.legend()\n",
    "    plt.show()\n",
    "\n",
    "plot_precision_recall(y_test, rf_proba, \"Random Forest\")\n",
    "plot_precision_recall(y_test, knn_proba, \"KNN\")\n",
    "plot_precision_recall(y_test, svm_proba, \"SVM\")"
   ]
  },
  {
   "cell_type": "markdown",
   "id": "340e85eb",
   "metadata": {},
   "source": [
    "## 4. Feature Importance (Random Forest)"
   ]
  },
  {
   "cell_type": "code",
   "execution_count": null,
   "id": "bcf0c19d",
   "metadata": {},
   "outputs": [],
   "source": [
    "feature_importance = pd.DataFrame({\n",
    "    'Feature': X.columns,\n",
    "    'Importance': rf_model.feature_importances_\n",
    "}).sort_values('Importance', ascending=False)\n",
    "\n",
    "plt.figure(figsize=(10, 6))\n",
    "sns.barplot(x='Importance', y='Feature', data=feature_importance.head(10))\n",
    "plt.title('Top 10 Important Features (Random Forest)')\n",
    "plt.show()"
   ]
  },
  {
   "cell_type": "markdown",
   "id": "e75b73dd",
   "metadata": {},
   "source": [
    "#  5. Compare perfomance of the different models"
   ]
  },
  {
   "cell_type": "code",
   "execution_count": null,
   "id": "42544c27",
   "metadata": {},
   "outputs": [],
   "source": [
    "# Create a comparison graph for all models\n",
    "def plot_metrics_comparison(y_test, rf_pred, knn_pred, svm_pred):\n",
    "    # Calculate metrics for each model\n",
    "    models = ['Random Forest', 'KNN', 'SVM']\n",
    "    predictions = [rf_pred, knn_pred, svm_pred]\n",
    "    \n",
    "    accuracy = [accuracy_score(y_test, pred) for pred in predictions]\n",
    "    precision = [precision_score(y_test, pred) for pred in predictions]\n",
    "    recall = [recall_score(y_test, pred) for pred in predictions]\n",
    "    f1 = [f1_score(y_test, pred) for pred in predictions]\n",
    "    \n",
    "    # Prepare data for plotting\n",
    "    metrics_df = pd.DataFrame({\n",
    "        'Model': models * 4,\n",
    "        'Metric': ['Accuracy']*3 + ['Precision']*3 + ['Recall']*3 + ['F1-Score']*3,\n",
    "        'Value': accuracy + precision + recall + f1\n",
    "    })\n",
    "    \n",
    "    # Plot\n",
    "    plt.figure(figsize=(12, 6))\n",
    "    sns.barplot(x='Model', y='Value', hue='Metric', data=metrics_df, palette='viridis')\n",
    "    plt.title('Model Performance Comparison')\n",
    "    plt.ylim(0, 1.1)\n",
    "    plt.ylabel('Score')\n",
    "    plt.legend(bbox_to_anchor=(1.05, 1), loc='upper left')\n",
    "    plt.tight_layout()\n",
    "    plt.show()\n",
    "\n",
    "# Add these imports at the top if not already present\n",
    "from sklearn.metrics import precision_score, recall_score, f1_score\n",
    "\n",
    "# Call the comparison function\n",
    "plot_metrics_comparison(y_test, rf_pred, knn_pred, svm_pred)"
   ]
  },
  {
   "cell_type": "markdown",
   "id": "dade696d",
   "metadata": {},
   "source": [
    "# 6.Combined ROC curve plot for all three models"
   ]
  },
  {
   "cell_type": "code",
   "execution_count": null,
   "id": "d034a127",
   "metadata": {},
   "outputs": [],
   "source": [
    "# Combined ROC curve plot\n",
    "def plot_combined_roc(y_test, rf_proba, knn_proba, svm_proba):\n",
    "    plt.figure(figsize=(10, 8))\n",
    "    \n",
    "    # Calculate and plot for each model\n",
    "    for name, proba in [('Random Forest', rf_proba), \n",
    "                        ('KNN', knn_proba), \n",
    "                        ('SVM', svm_proba)]:\n",
    "        fpr, tpr, _ = roc_curve(y_test, proba)\n",
    "        roc_auc = roc_auc_score(y_test, proba)\n",
    "        plt.plot(fpr, tpr, label=f'{name} (AUC = {roc_auc:.2f})')\n",
    "    \n",
    "    plt.plot([0, 1], [0, 1], 'k--')\n",
    "    plt.xlabel('False Positive Rate')\n",
    "    plt.ylabel('True Positive Rate')\n",
    "    plt.title('ROC Curve Comparison of All Models')\n",
    "    plt.legend(loc='lower right')\n",
    "    plt.show()\n",
    "\n",
    "plot_combined_roc(y_test, rf_proba, knn_proba, svm_proba)"
   ]
  }
 ],
 "metadata": {
  "kernelspec": {
   "display_name": "Python 3 (ipykernel)",
   "language": "python",
   "name": "python3"
  },
  "language_info": {
   "codemirror_mode": {
    "name": "ipython",
    "version": 3
   },
   "file_extension": ".py",
   "mimetype": "text/x-python",
   "name": "python",
   "nbconvert_exporter": "python",
   "pygments_lexer": "ipython3",
   "version": "3.9.12"
  }
 },
 "nbformat": 4,
 "nbformat_minor": 5
}
